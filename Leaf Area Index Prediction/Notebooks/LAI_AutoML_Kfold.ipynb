{
 "cells": [
  {
   "cell_type": "code",
   "execution_count": 17,
   "id": "3f3ade4e",
   "metadata": {},
   "outputs": [],
   "source": [
    "import numpy as np\n",
    "import matplotlib.pyplot as plt\n",
    "import cv2 \n",
    "import os\n",
    "import pandas as pd\n",
    "from scipy import ndimage\n",
    "import statsmodels.api as sm\n",
    "from sklearn.model_selection import train_test_split\n",
    "from tpot import TPOTRegressor\n",
    "from sklearn.model_selection import KFold"
   ]
  },
  {
   "cell_type": "code",
   "execution_count": 18,
   "id": "7a5ce3d6",
   "metadata": {},
   "outputs": [],
   "source": [
    "def calculate_centroid_and_area(image):\n",
    "    \n",
    "    img_hsv = cv2.cvtColor(image, cv2.COLOR_BGR2HSV)\n",
    "\n",
    "    mask = cv2.inRange(img_hsv,(31, 69, 20), (82, 255, 255))\n",
    "    \n",
    "    area = np.sum(mask)/255\n",
    "    centroid = ndimage.center_of_mass(mask)\n",
    "    \n",
    "    return [area,centroid]"
   ]
  },
  {
   "cell_type": "code",
   "execution_count": 19,
   "id": "79b64efc",
   "metadata": {},
   "outputs": [],
   "source": [
    "# Assumes there are an equal number of top and front images\n",
    "number_of_files = len([name for name in os.listdir('../Images') if name[0]!=\".\"])\n",
    "number_of_plants = int(number_of_files / 2)\n",
    "\n",
    "results = pd.DataFrame(columns=['Plant_number', 'Area_front', 'Centroid_front', 'Area_top', 'Centroid_top'])\n",
    "\n",
    "for x in range(number_of_plants):\n",
    "    row = []\n",
    "    \n",
    "    row.append(\"Plant\" + str(x+1))\n",
    "    \n",
    "    image_front = cv2.imread(f'../Images/Plant{x+1}_front_Color.png')\n",
    "    image_top = cv2.imread(f'../Images/Plant{x+1}_top_Color.png')\n",
    "    \n",
    "    front_result = calculate_centroid_and_area(image_front)\n",
    "    top_result = calculate_centroid_and_area(image_top)\n",
    "    \n",
    "    row = row + front_result + top_result\n",
    "    \n",
    "    results.loc[len(results)] = row\n",
    "    \n",
    "    "
   ]
  },
  {
   "cell_type": "code",
   "execution_count": 20,
   "id": "c4cbb0b2",
   "metadata": {},
   "outputs": [],
   "source": [
    "PlantData = pd.read_csv(\"../PlantData.csv\")"
   ]
  },
  {
   "cell_type": "code",
   "execution_count": 21,
   "id": "e23a1287",
   "metadata": {},
   "outputs": [],
   "source": [
    "Data = results.join(PlantData.set_index('Plant_number'), on='Plant_number')"
   ]
  },
  {
   "cell_type": "code",
   "execution_count": 25,
   "id": "eec66c2e",
   "metadata": {},
   "outputs": [
    {
     "name": "stderr",
     "output_type": "stream",
     "text": [
      "C:\\Users\\Jeroen.cro\\Anaconda3\\envs\\LAI-prediction-2\\lib\\site-packages\\sklearn\\utils\\validation.py:993: DataConversionWarning: A column-vector y was passed when a 1d array was expected. Please change the shape of y to (n_samples, ), for example using ravel().\n",
      "  y = column_or_1d(y, warn=True)\n"
     ]
    },
    {
     "name": "stdout",
     "output_type": "stream",
     "text": [
      "                                                                             \n",
      "Generation 1 - Current best internal CV score: -0.32382695895386815\n",
      "                                                                             \n",
      "Generation 2 - Current best internal CV score: -0.32382695895386815\n",
      "                                                                             \n",
      "Generation 3 - Current best internal CV score: -0.32237126534730975\n",
      "                                                                              \n",
      "Generation 4 - Current best internal CV score: -0.32237126534730975\n",
      "                                                                              \n",
      "Generation 5 - Current best internal CV score: -0.32237126534730975\n",
      "                                                                              \n",
      "Generation 6 - Current best internal CV score: -0.3223712653472839\n",
      "                                                                              \n",
      "Generation 7 - Current best internal CV score: -0.32237126534723654\n",
      "                                                                              \n",
      "Generation 8 - Current best internal CV score: -0.32237126534723654\n",
      "                                                                              \n",
      "Generation 9 - Current best internal CV score: -0.3113272581204666\n",
      "                                                                              \n",
      "Generation 10 - Current best internal CV score: -0.3113272581204666\n",
      "                                                                              \n",
      "Best pipeline: ElasticNetCV(SelectPercentile(FastICA(input_matrix, tol=0.05), percentile=56), l1_ratio=0.8, tol=0.0001)\n",
      "[-1.42791009 -0.64165291 -0.22126561  0.26266205  0.31106207  0.83614632\n",
      "  0.07042863  0.67894768 -0.26619278  1.47343526]\n",
      "[ 728.06020447  933.54460558 1043.41073304 1169.88281942 1182.5319237\n",
      " 1319.7600797  1119.64357091 1278.67699627 1031.66924255 1486.31237246]\n",
      "[ 486.23  826.31 1338.75 1083.64 1315.05 1060.02 1296.03 1304.94  986.5\n",
      " 1343.02]\n",
      "(10,)\n"
     ]
    },
    {
     "name": "stderr",
     "output_type": "stream",
     "text": [
      "C:\\Users\\Jeroen.cro\\Anaconda3\\envs\\LAI-prediction-2\\lib\\site-packages\\sklearn\\utils\\validation.py:993: DataConversionWarning: A column-vector y was passed when a 1d array was expected. Please change the shape of y to (n_samples, ), for example using ravel().\n",
      "  y = column_or_1d(y, warn=True)\n"
     ]
    },
    {
     "name": "stdout",
     "output_type": "stream",
     "text": [
      "                                                                             \n",
      "Generation 1 - Current best internal CV score: -0.2812156187460142\n",
      "                                                                             \n",
      "Generation 2 - Current best internal CV score: -0.2502626182074331\n",
      "                                                                             \n",
      "Generation 3 - Current best internal CV score: -0.21426392686596113\n",
      "                                                                              \n",
      "Generation 4 - Current best internal CV score: -0.20620237248183884\n",
      "                                                                              \n",
      "Generation 5 - Current best internal CV score: -0.20620237248183884\n",
      "                                                                              \n",
      "Generation 6 - Current best internal CV score: -0.20620237248183884\n",
      "                                                                              \n",
      "Generation 7 - Current best internal CV score: -0.20327702908815498\n",
      "                                                                              \n",
      "Generation 8 - Current best internal CV score: -0.20327702908815498\n",
      "                                                                              \n",
      "Generation 9 - Current best internal CV score: -0.20327702908815498\n",
      "                                                                              \n",
      "Generation 10 - Current best internal CV score: -0.20327702908815498\n",
      "                                                                              \n",
      "Best pipeline: RidgeCV(StandardScaler(CombineDFs(input_matrix, Nystroem(input_matrix, gamma=0.65, kernel=sigmoid, n_components=2))))\n",
      "[[ 0.08288279]\n",
      " [ 0.26079813]\n",
      " [-0.32403945]\n",
      " [ 0.55881224]\n",
      " [ 0.52418421]\n",
      " [ 0.62628919]\n",
      " [ 0.7068251 ]\n",
      " [ 1.25725651]\n",
      " [ 0.08819566]\n",
      " [ 0.41651151]]\n",
      "[1122.89840562 1169.39569213 1016.55130347 1247.28019755 1238.23033416\n",
      " 1264.91496265 1285.96262212 1429.81513152 1124.28689762 1210.0906104 ]\n",
      "[1199.86 1220.36 1288.98 1322.54 1358.58 1321.61 1452.86 1606.91 1103.6\n",
      " 1178.49]\n",
      "(10,)\n"
     ]
    },
    {
     "name": "stderr",
     "output_type": "stream",
     "text": [
      "C:\\Users\\Jeroen.cro\\Anaconda3\\envs\\LAI-prediction-2\\lib\\site-packages\\sklearn\\utils\\validation.py:993: DataConversionWarning: A column-vector y was passed when a 1d array was expected. Please change the shape of y to (n_samples, ), for example using ravel().\n",
      "  y = column_or_1d(y, warn=True)\n"
     ]
    },
    {
     "name": "stdout",
     "output_type": "stream",
     "text": [
      "                                                                             \n",
      "Generation 1 - Current best internal CV score: -0.31143763191424123\n",
      "                                                                             \n",
      "Generation 2 - Current best internal CV score: -0.31143763191424123\n",
      "                                                                             \n",
      "Generation 3 - Current best internal CV score: -0.31143763191424123\n",
      "                                                                              \n",
      "Generation 4 - Current best internal CV score: -0.30755812293059426\n",
      "                                                                              \n",
      "Generation 5 - Current best internal CV score: -0.29244947678861\n",
      "                                                                              \n",
      "Generation 6 - Current best internal CV score: -0.29244947678861\n",
      "                                                                              \n",
      "Generation 7 - Current best internal CV score: -0.2566733765799934\n",
      "                                                                              \n",
      "Generation 8 - Current best internal CV score: -0.2566733765799934\n",
      "                                                                              \n",
      "Generation 9 - Current best internal CV score: -0.2566733765799934\n",
      "                                                                              \n",
      "Generation 10 - Current best internal CV score: -0.2566733765799934\n",
      "                                                                              \n",
      "Best pipeline: LinearSVR(Nystroem(input_matrix, gamma=0.1, kernel=polynomial, n_components=4), C=5.0, dual=True, epsilon=0.1, loss=epsilon_insensitive, tol=0.01)\n",
      "[-1.20938583 -1.06742449  0.03207071  1.34833818 -0.19699466 -0.03487806\n",
      " -0.3084747   0.40267003 -0.246121    0.67737836]\n",
      "[ 785.17043354  822.27132349 1109.6189205  1453.61887281 1049.75382582\n",
      " 1092.12219198 1020.61907246 1206.47320724 1036.91490267 1278.26686399]\n",
      "[ 755.65  659.55  909.32 1363.92 1149.99 1195.76  964.64 1127.93 1024.78\n",
      " 1216.18]\n",
      "(10,)\n"
     ]
    },
    {
     "name": "stderr",
     "output_type": "stream",
     "text": [
      "C:\\Users\\Jeroen.cro\\Anaconda3\\envs\\LAI-prediction-2\\lib\\site-packages\\sklearn\\utils\\validation.py:993: DataConversionWarning: A column-vector y was passed when a 1d array was expected. Please change the shape of y to (n_samples, ), for example using ravel().\n",
      "  y = column_or_1d(y, warn=True)\n"
     ]
    },
    {
     "name": "stdout",
     "output_type": "stream",
     "text": [
      "                                                                             \n",
      "Generation 1 - Current best internal CV score: -0.47081926501649896\n",
      "                                                                             \n",
      "Generation 2 - Current best internal CV score: -0.47081926501649896\n",
      "                                                                             \n",
      "Generation 3 - Current best internal CV score: -0.44747439866451666\n",
      "                                                                             \n",
      "Generation 4 - Current best internal CV score: -0.4209198206518344\n",
      "                                                                              \n",
      "Generation 5 - Current best internal CV score: -0.4137241889364792\n",
      "                                                                              \n",
      "Generation 6 - Current best internal CV score: -0.3215365806952573\n",
      "                                                                              \n",
      "Generation 7 - Current best internal CV score: -0.3215365806952573\n",
      "                                                                              \n",
      "Generation 8 - Current best internal CV score: -0.30707054396314404\n",
      "                                                                              \n",
      "Generation 9 - Current best internal CV score: -0.30072774348275155\n",
      "                                                                              \n",
      "Generation 10 - Current best internal CV score: -0.30072774348275155\n",
      "                                                                              \n",
      "Best pipeline: LinearSVR(FastICA(SGDRegressor(SelectFwe(PolynomialFeatures(input_matrix, degree=2, include_bias=False, interaction_only=False), alpha=0.021), alpha=0.0, eta0=1.0, fit_intercept=False, l1_ratio=0.25, learning_rate=constant, loss=huber, penalty=elasticnet, power_t=10.0), tol=0.45), C=10.0, dual=True, epsilon=0.1, loss=epsilon_insensitive, tol=0.01)\n",
      "[ 0.26884426 -1.27706665 -0.8397049  -0.29489445  0.55769316  0.61965113\n",
      "  0.78023779  0.4705184   0.77444237  0.68648906]\n",
      "[1171.49850846  767.48238639  881.78470378 1024.16820205 1246.9877326\n",
      " 1263.18013875 1305.14866203 1224.20504119 1303.63405745 1280.64789819]\n",
      "[ 843.04  492.84  797.91  903.49 1352.05 1335.69 1340.06 1110.42 1176.22\n",
      " 1270.2 ]\n",
      "(10,)\n"
     ]
    },
    {
     "name": "stderr",
     "output_type": "stream",
     "text": [
      "C:\\Users\\Jeroen.cro\\Anaconda3\\envs\\LAI-prediction-2\\lib\\site-packages\\sklearn\\utils\\validation.py:993: DataConversionWarning: A column-vector y was passed when a 1d array was expected. Please change the shape of y to (n_samples, ), for example using ravel().\n",
      "  y = column_or_1d(y, warn=True)\n"
     ]
    },
    {
     "name": "stdout",
     "output_type": "stream",
     "text": [
      "                                                                             \n",
      "Generation 1 - Current best internal CV score: -0.39589399789423113\n",
      "                                                                             \n",
      "Generation 2 - Current best internal CV score: -0.39589399789423113\n",
      "                                                                             \n",
      "Generation 3 - Current best internal CV score: -0.23546599677478292\n",
      "                                                                              \n",
      "Generation 4 - Current best internal CV score: -0.23546599677478292\n",
      "                                                                              \n",
      "Generation 5 - Current best internal CV score: -0.23546599677478292\n",
      "                                                                              \n",
      "Generation 6 - Current best internal CV score: -0.22854743021133056\n",
      "                                                                              \n",
      "Generation 7 - Current best internal CV score: -0.22854743021133056\n",
      "                                                                              \n",
      "Generation 8 - Current best internal CV score: -0.2265187409929513\n",
      "                                                                              \n",
      "Generation 9 - Current best internal CV score: -0.2265187409929513\n",
      "                                                                              \n",
      "Generation 10 - Current best internal CV score: -0.1959575740389037\n",
      "                                                                              \n",
      "Best pipeline: SGDRegressor(PolynomialFeatures(CombineDFs(input_matrix, input_matrix), degree=2, include_bias=False, interaction_only=False), alpha=0.0, eta0=0.1, fit_intercept=True, l1_ratio=0.0, learning_rate=constant, loss=huber, penalty=elasticnet, power_t=50.0)\n",
      "[-0.1125997  -2.83854561 -1.90418908 -2.49999563  0.50851194  1.31496408\n",
      "  0.15996852  0.34651464  0.78317287 -0.50147116]\n",
      "[1071.81002903  359.39763309  603.58706208  447.87598459 1234.13446496\n",
      " 1444.89671713 1143.04437715 1191.79727528 1305.91573159  970.1804076 ]\n",
      "[ 720.31  750.63  609.88  661.81 1261.5  1270.46 1292.18 1239.6  1223.\n",
      "  948.58]\n",
      "(10,)\n",
      "[151.40161003 104.89388588  89.48575789 127.17842641 146.62160882]\n",
      "0.11252456355540055\n"
     ]
    }
   ],
   "source": [
    "# Separate Target Variable and Predictor Variables\n",
    "TargetVariable=['LAI']\n",
    "Predictors=['Area_top','Area_front']\n",
    " \n",
    "X=Data[Predictors].values\n",
    "y=Data[TargetVariable].values\n",
    " \n",
    "### Sandardization of data ###\n",
    "from sklearn.preprocessing import StandardScaler\n",
    "PredictorScaler=StandardScaler()\n",
    "TargetVarScaler=StandardScaler()\n",
    " \n",
    "# Storing the fit object for later reference\n",
    "PredictorScalerFit=PredictorScaler.fit(X)\n",
    "TargetVarScalerFit=TargetVarScaler.fit(y)\n",
    " \n",
    "# Generating the standardized values of X and y\n",
    "X=PredictorScalerFit.transform(X)\n",
    "y=TargetVarScalerFit.transform(y)\n",
    "\n",
    "i=0\n",
    "k=5\n",
    "cv = KFold(n_splits=k, random_state=1, shuffle=True)\n",
    "cv.get_n_splits(X)\n",
    "mae=np.zeros(k)\n",
    "for train_index, test_index in cv.split(X):\n",
    "    X_train, X_test = X[train_index], X[test_index]\n",
    "    y_train, y_test = y[train_index], y[test_index]\n",
    "\n",
    "    pipeline_optimizer = TPOTRegressor(generations=10, population_size=20, cv=5,\n",
    "                                        random_state=42, verbosity=2)\n",
    "    pipeline_optimizer.fit(X_train, y_train)\n",
    "    close_predictions = pipeline_optimizer.predict(X_test)\n",
    "    print(close_predictions)\n",
    "    close_predictions = TargetVarScalerFit.inverse_transform(close_predictions.reshape(-1, 1))\n",
    "    close_predictions = close_predictions.flatten()\n",
    "    y_test = TargetVarScalerFit.inverse_transform(y_test)\n",
    "    y_test = y_test.flatten()\n",
    "    print(close_predictions)\n",
    "    print(y_test)\n",
    "    print(y_test.shape)\n",
    "    mae[i] = sum(abs(close_predictions - y_test)) / y_test.shape[0]\n",
    "    i+=1\n",
    "print(mae)\n",
    "mae_average = np.average(mae)\n",
    "maepercent_average = mae_average/np.average(Data['LAI'])\n",
    "print(maepercent_average)"
   ]
  },
  {
   "cell_type": "code",
   "execution_count": 8,
   "id": "3edac136",
   "metadata": {},
   "outputs": [
    {
     "name": "stdout",
     "output_type": "stream",
     "text": [
      "67.87093207978056\n",
      "   Actuals  Predictions  Plant Numbers\n",
      "2   964.64   951.546839              1\n",
      "0  1199.86  1061.575843              2\n",
      "3  1216.18  1289.154634              3\n",
      "9  1220.36  1212.425052              4\n",
      "8  1321.61  1303.040089              5\n",
      "7  1335.69  1253.627799              6\n",
      "5  1343.02  1439.829413              7\n",
      "6  1358.58  1273.334434              8\n",
      "4  1363.92  1394.401423              9\n",
      "1  1606.91  1473.656094             10\n"
     ]
    },
    {
     "name": "stderr",
     "output_type": "stream",
     "text": [
      "C:\\Users\\Jeroen.cro\\Anaconda3\\envs\\LAI-prediction-2\\lib\\site-packages\\sklearn\\base.py:450: UserWarning: X does not have valid feature names, but DecisionTreeRegressor was fitted with feature names\n",
      "  warnings.warn(\n"
     ]
    },
    {
     "data": {
      "text/plain": [
       "[<matplotlib.lines.Line2D at 0x1e1288233d0>,\n",
       " <matplotlib.lines.Line2D at 0x1e128823460>]"
      ]
     },
     "execution_count": 8,
     "metadata": {},
     "output_type": "execute_result"
    },
    {
     "data": {
      "image/png": "[encoded data removed]",
      "text/plain": [
       "<Figure size 432x288 with 1 Axes>"
      ]
     },
     "metadata": {
      "needs_background": "light"
     },
     "output_type": "display_data"
    }
   ],
   "source": [
    "\n",
    "close_predictions = pipeline_optimizer.predict(X_test)   \n",
    "\n",
    "mae = sum(abs(close_predictions - y_rem)) / y_rem.shape[0]\n",
    "\n",
    "\n",
    "print(mae)\n",
    "RF_results = pd.DataFrame(columns = ['Actuals'])\n",
    "RF_results['Predictions'] = close_predictions\n",
    "RF_results['Actuals'] = y_rem.to_list()\n",
    "\n",
    "\n",
    "\n",
    "\n",
    "RF_results.sort_values(by=['Actuals'],inplace = True)\n",
    "RF_results['Plant Numbers'] = np.arange(1,11).tolist()\n",
    "print(RF_results)\n",
    "\n",
    "plt.plot(RF_results['Plant Numbers'],RF_results['Actuals'],RF_results['Plant Numbers'],RF_results['Predictions'])"
   ]
  },
  {
   "cell_type": "code",
   "execution_count": 9,
   "id": "31ac1f4e",
   "metadata": {},
   "outputs": [
    {
     "data": {
      "text/plain": [
       "0.05248792769477809"
      ]
     },
     "execution_count": 9,
     "metadata": {},
     "output_type": "execute_result"
    }
   ],
   "source": [
    "mae/np.average(RF_results['Actuals'])"
   ]
  }
 ],
 "metadata": {
  "kernelspec": {
   "display_name": "Python 3 (ipykernel)",
   "language": "python",
   "name": "python3"
  },
  "language_info": {
   "codemirror_mode": {
    "name": "ipython",
    "version": 3
   },
   "file_extension": ".py",
   "mimetype": "text/x-python",
   "name": "python",
   "nbconvert_exporter": "python",
   "pygments_lexer": "ipython3",
   "version": "3.8.12"
  }
 },
 "nbformat": 4,
 "nbformat_minor": 5
}
