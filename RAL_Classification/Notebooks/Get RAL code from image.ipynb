{
 "cells": [
  {
   "cell_type": "code",
   "execution_count": 1,
   "id": "eb4d975e",
   "metadata": {},
   "outputs": [],
   "source": [
    "import cv2\n",
    "import numpy as np\n",
    "import pandas as pd"
   ]
  },
  {
   "cell_type": "code",
   "execution_count": 12,
   "id": "956c7e56",
   "metadata": {},
   "outputs": [
    {
     "data": {
      "text/plain": [
       "(1080, 1920, 3)"
      ]
     },
     "execution_count": 12,
     "metadata": {},
     "output_type": "execute_result"
    }
   ],
   "source": [
    "image = cv2.imread('../Data/PlantTest_02_Color.png')\n",
    " \n",
    "result = cv2.cvtColor(image, cv2.COLOR_BGR2RGB)\n",
    " \n",
    "image = cv2.cvtColor(image, cv2.COLOR_BGR2HSV)\n",
    " \n",
    "lower1 = np.array([30, 70, 20])\n",
    "upper1 = np.array([80, 255, 255])\n",
    " \n",
    "lower_mask = cv2.inRange(image, lower1, upper1)\n",
    "full_mask = lower_mask;\n",
    "result = cv2.bitwise_and(result, result, mask=full_mask)\n",
    "result.shape"
   ]
  },
  {
   "cell_type": "code",
   "execution_count": 3,
   "id": "d654adca",
   "metadata": {},
   "outputs": [],
   "source": [
    "table = pd.read_csv('../RALrgbDF.csv')"
   ]
  },
  {
   "cell_type": "code",
   "execution_count": 13,
   "id": "c7af57b3",
   "metadata": {},
   "outputs": [
    {
     "name": "stdout",
     "output_type": "stream",
     "text": [
      "OliveGrey Brown 111.46215259551407 122.40611566671869 64.74170414402656\n",
      "0.4371064807667218 0.48002398300674 0.2538890358589277\n"
     ]
    }
   ],
   "source": [
    "R = table[\"r\"]\n",
    "G = table[\"g\"]\n",
    "B = table[\"b\"]\n",
    "Rsum = 0\n",
    "Gsum = 0\n",
    "Bsum = 0\n",
    "x = 0\n",
    "for a in range (0,result.shape[0]):\n",
    "    for b in range (0,result.shape[1]):\n",
    "        E = [0] * 213\n",
    "        r = result[a,b,0]\n",
    "        g = result[a,b,1]\n",
    "        bl = result[a,b,2]\n",
    "        if r <= 10 & g <= 20 & bl <= 10:\n",
    "            continue\n",
    "        Rsum += r\n",
    "        Gsum += g\n",
    "        Bsum += bl\n",
    "        x += 1\n",
    "ravg = Rsum/x\n",
    "gavg = Gsum/x\n",
    "bavg = Bsum/x\n",
    "for i in range(0,table.shape[0]):\n",
    "    E[i] = (R[i]-ravg)**2 + (G[i]-gavg)**2 + (B[i]-bavg)**2\n",
    "j = E.index(min(E))\n",
    "print(table.at[j,'Name'],ravg,gavg,bavg)\n",
    "print(ravg/255,gavg/255,bavg/255)"
   ]
  }
 ],
 "metadata": {
  "kernelspec": {
   "display_name": "Python 3 (ipykernel)",
   "language": "python",
   "name": "python3"
  },
  "language_info": {
   "codemirror_mode": {
    "name": "ipython",
    "version": 3
   },
   "file_extension": ".py",
   "mimetype": "text/x-python",
   "name": "python",
   "nbconvert_exporter": "python",
   "pygments_lexer": "ipython3",
   "version": "3.9.12"
  }
 },
 "nbformat": 4,
 "nbformat_minor": 5
}
