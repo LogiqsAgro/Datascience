{
 "cells": [
  {
   "cell_type": "code",
   "execution_count": 42,
   "id": "49c1ae6f",
   "metadata": {},
   "outputs": [],
   "source": [
    "import os\n",
    "import numpy as np\n",
    "import cv2\n",
    "import matplotlib.pyplot as plt\n",
    "import sklearn as sk\n",
    "import cv2\n",
    "import skimage as si\n",
    "from scipy import ndimage, spatial\n"
   ]
  },
  {
   "cell_type": "code",
   "execution_count": 134,
   "id": "5289849b",
   "metadata": {},
   "outputs": [],
   "source": [
    "os.chdir('C:\\\\Users\\\\sjoerd.kra\\\\Documents\\\\GitHub\\\\Datascience\\\\Seedling Leaf Area\\\\Notebooks')\n",
    "n = 150\n",
    "F = np.empty([3,n])\n",
    "\n",
    "for i in range(n):\n",
    "    pod = plt.imread(os.getcwd()+'\\\\Data\\\\Podimages\\\\Keria_03_1904_'+str(i)+'.jpeg')\n",
    "    podhsv = cv2.cvtColor(pod, cv2.COLOR_RGB2HSV)\n",
    "    ret, thresh = cv2.threshold(podhsv[:,:,1], 10, 255, cv2.THRESH_OTSU)\n",
    "    podbin = si.morphology.binary_opening(ndimage.binary_fill_holes(thresh), np.ones((15,15))).astype(np.uint8)\n",
    "    \n",
    "    if np.sum(podbin) == 0:\n",
    "        F[:,i] = np.array([0, 0, 0])\n",
    "   \n",
    "    else:    \n",
    "        F[0,i] = np.sum(podbin)/100 #area devided by 100 for scaling\n",
    "    \n",
    "        mass_x, mass_y = np.where(podbin == 1)\n",
    "        c = np.empty([1,2])\n",
    "        c[0,:] = np.array([np.average(mass_x), np.average(mass_y)])\n",
    "        dist = ndimage.distance_transform_edt(podbin)\n",
    "        coor = si.feature.peak_local_max(dist, min_distance=10)\n",
    "        \n",
    "        if (coor.shape[0] == 0 or coor.shape[0] == 1):\n",
    "            F[1:, i] = np.array([0, 0])\n",
    "        else:            \n",
    "            dc = spatial.distance.cdist(coor, c, 'euclidean')\n",
    "            F[1,i] = dc[np.nonzero(dc)].mean() # average distance of local maxima to center of mass\n",
    "    \n",
    "            dinter = spatial.distance.cdist(coor, coor, 'euclidean')\n",
    "            F[2,i] = dinter[np.nonzero(dinter)].mean() # average distance between local maxima\n",
    "            \n",
    "np.save(os.getcwd()+'\\\\Data\\\\Model\\\\Train1\\\\features.npy', F[:,:75])\n",
    "np.save(os.getcwd()+'\\\\Data\\\\Model\\\\Test1\\\\features.npy', F[:,75:])\n",
    "\n"
   ]
  }
 ],
 "metadata": {
  "kernelspec": {
   "display_name": "Python 3 (ipykernel)",
   "language": "python",
   "name": "python3"
  },
  "language_info": {
   "codemirror_mode": {
    "name": "ipython",
    "version": 3
   },
   "file_extension": ".py",
   "mimetype": "text/x-python",
   "name": "python",
   "nbconvert_exporter": "python",
   "pygments_lexer": "ipython3",
   "version": "3.8.13"
  }
 },
 "nbformat": 4,
 "nbformat_minor": 5
}
