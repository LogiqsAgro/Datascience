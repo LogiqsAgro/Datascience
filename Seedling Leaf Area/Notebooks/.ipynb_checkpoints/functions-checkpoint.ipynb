{
 "cells": [
  {
   "cell_type": "code",
   "execution_count": 1,
   "id": "412d92ad",
   "metadata": {},
   "outputs": [],
   "source": [
    "def order_points(pts):\n",
    "    \n",
    "    xSorted = pts[np.argsort(pts[:, 0]), :]\n",
    "    leftMost = xSorted[:2, :]\n",
    "    rightMost = xSorted[2:, :]\n",
    "    leftMost = leftMost[np.argsort(leftMost[:, 1]), :]\n",
    "    (tl, bl) = leftMost\n",
    "    D = dist.cdist(tl[np.newaxis], rightMost, \"euclidean\")[0]\n",
    "    (br, tr) = rightMost[np.argsort(D)[::-1], :]\n",
    "    \n",
    "    return np.array([tl, tr, br, bl], dtype=\"float32\")"
   ]
  },
  {
   "cell_type": "code",
   "execution_count": 2,
   "id": "3f72ad3c",
   "metadata": {},
   "outputs": [],
   "source": [
    "#defining transformation function necessary in following step\n",
    "def get_transform(p, scale):\n",
    "    if scale == True:\n",
    "        s = 0.04\n",
    "    else:\n",
    "        s = 0\n",
    "    \n",
    "    \n",
    "    w1 = np.sqrt(((p[0][0][0] - p[3][0][0]) ** 2) + ((p[0][0][1] - p[3][0][1]) ** 2))\n",
    "    w2 = np.sqrt(((p[1][0][0] - p[2][0][0]) ** 2) + ((p[1][0][1] - p[2][0][1]) ** 2)) \n",
    " \n",
    "    h1 = np.sqrt(((p[0][0][0] - p[1][0][0]) ** 2) + ((p[0][0][1] - p[1][0][1]) ** 2))\n",
    "    h2 = np.sqrt(((p[2][0][0] - p[3][0][0]) ** 2) + ((p[2][0][1] - p[3][0][1]) ** 2))\n",
    "    \n",
    "    p1 = np.array([p[0][0][0] - s*w1, p[0][0][1] - s*w2])\n",
    "    p2 = np.array([p[1][0][0] - s*w1, p[1][0][1] + s*w2])\n",
    "    p3 = np.array([p[2][0][0] + s*w1, p[2][0][1] + s*w2])    \n",
    "    p4 = np.array([p[3][0][0] + s*w1, p[3][0][1] - s*w2])\n",
    "\n",
    "    print(p1)\n",
    "    print(p2)\n",
    "    print(p3)\n",
    "    print(p4)\n",
    "                   \n",
    "    wmax = max(int((1+s)*w1), int((1+s)*w2))\n",
    "    hmax = max(int((1+s)*h1), int((1+s)*h2))\n",
    "    \n",
    "    \n",
    "    i = np.float32([p1, p2, p3, p4])\n",
    "    o = np.float32([[0, 0], [0, hmax - 1], [wmax - 1, hmax - 1], [wmax - 1, 0]])\n",
    "                        \n",
    "    M = cv2.getPerspectiveTransform(i, o)\n",
    "    \n",
    "    return M, hmax, wmax"
   ]
  },
  {
   "cell_type": "code",
   "execution_count": null,
   "id": "b1db6e37",
   "metadata": {},
   "outputs": [],
   "source": []
  }
 ],
 "metadata": {
  "kernelspec": {
   "display_name": "Python 3 (ipykernel)",
   "language": "python",
   "name": "python3"
  },
  "language_info": {
   "codemirror_mode": {
    "name": "ipython",
    "version": 3
   },
   "file_extension": ".py",
   "mimetype": "text/x-python",
   "name": "python",
   "nbconvert_exporter": "python",
   "pygments_lexer": "ipython3",
   "version": "3.8.13"
  }
 },
 "nbformat": 4,
 "nbformat_minor": 5
}
