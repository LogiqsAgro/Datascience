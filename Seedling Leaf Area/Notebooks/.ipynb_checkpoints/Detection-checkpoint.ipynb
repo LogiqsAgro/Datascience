{
 "cells": [
  {
   "cell_type": "code",
   "execution_count": 1,
   "id": "f3cfea66",
   "metadata": {},
   "outputs": [],
   "source": [
    "import os\n",
    "import numpy as np\n",
    "from detecto import visualize, core\n",
    "import matplotlib.pyplot as plt\n",
    "import cv2"
   ]
  },
  {
   "cell_type": "code",
   "execution_count": 2,
   "id": "25c4e8de",
   "metadata": {},
   "outputs": [],
   "source": [
    "#set working directory\n",
    "os.chdir('C:\\\\Users\\\\sjoerd.kra\\\\Documents\\\\GitHub\\\\Datascience\\\\Seedling Leaf Area\\\\Notebooks')\n",
    "\n",
    "#choose dataset\n",
    "Dataset = 'Keria_03_1904_'"
   ]
  },
  {
   "cell_type": "code",
   "execution_count": 37,
   "id": "e730c10e",
   "metadata": {},
   "outputs": [],
   "source": [
    "n = 150\n",
    "thresh = 0.7\n",
    "boxedimage = np.empty([260, 260, 3, n])\n",
    "\n",
    "for i in range(n):\n",
    "    image = plt.imread(os.getcwd()+'\\\\Data\\\\PodImages\\\\'+Dataset'+str(i)+'.jpeg')\n",
    "    model = core.Model.load('model_weights_2.pth', ['Basil', 'Nothing'])\n",
    "    labels, boxes, scores = model.predict(image)\n",
    "    ind = np.argwhere(scores>thresh)\n",
    "    box = boxes[ind, :][0]\n",
    "\n",
    "    if box.shape[0] == 0:\n",
    "        boxedimage[:,:,:,i] = image\n",
    "    else:\n",
    "        for j in range (box.shape[0]):\n",
    "            boxedimage[:,:,:,i] = cv2.rectangle(image,(int(box[j,0]),int(box[j,1])),(int(box[j,2]),int(box[j,3])),(255,0,0),2)\n",
    "            \n",
    "        "
   ]
  },
  {
   "cell_type": "code",
   "execution_count": 38,
   "id": "0dab3b10",
   "metadata": {},
   "outputs": [],
   "source": [
    "for i in range(n):\n",
    "    plt.imsave(os.getcwd()+'\\Data\\Detection\\Dmap_Keria_03_1904_'+str(i)+'.jpeg', (boxedimage[:,:,:,i]/255))"
   ]
  },
  {
   "cell_type": "code",
   "execution_count": null,
   "id": "656290d5",
   "metadata": {},
   "outputs": [],
   "source": []
  }
 ],
 "metadata": {
  "kernelspec": {
   "display_name": "Python 3 (ipykernel)",
   "language": "python",
   "name": "python3"
  },
  "language_info": {
   "codemirror_mode": {
    "name": "ipython",
    "version": 3
   },
   "file_extension": ".py",
   "mimetype": "text/x-python",
   "name": "python",
   "nbconvert_exporter": "python",
   "pygments_lexer": "ipython3",
   "version": "3.8.13"
  }
 },
 "nbformat": 4,
 "nbformat_minor": 5
}
