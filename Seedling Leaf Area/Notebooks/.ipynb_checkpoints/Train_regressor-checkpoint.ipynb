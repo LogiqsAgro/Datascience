{
 "cells": [
  {
   "cell_type": "code",
   "execution_count": 80,
   "id": "8d06589c",
   "metadata": {},
   "outputs": [],
   "source": [
    "import os\n",
    "import numpy as np\n",
    "from sklearn.svm import SVR\n",
    "from sklearn.ensemble import RandomForestRegressor as RFR\n",
    "from sklearn.model_selection import train_test_split\n",
    "import random\n",
    "\n",
    "os.chdir('C:\\\\Users\\\\sjoerd.kra\\\\Documents\\\\GitHub\\\\Datascience\\\\Seedling Leaf Area\\\\Notebooks')"
   ]
  },
  {
   "cell_type": "code",
   "execution_count": 73,
   "id": "5c7e6514",
   "metadata": {},
   "outputs": [],
   "source": [
    "F = np.load(os.getcwd()+'\\\\Data\\\\Model\\\\features.npy')\n",
    "#Y = np.load(os.getcwd()+'\\\\Data\\\\Model\\\\leaf_area.npy')"
   ]
  },
  {
   "cell_type": "code",
   "execution_count": 82,
   "id": "2c61acfc",
   "metadata": {},
   "outputs": [],
   "source": [
    "#creating fake test data\n",
    "Y = np.empty([F.shape[1]])\n",
    "for i in range(F.shape[1]):\n",
    "    if F[1,i] == 0:\n",
    "        Y[i] = 0\n",
    "    else:\n",
    "        Y[i] = F[0,i] * (2/(F[1,i]+F[2,i])) * random.uniform(0.9, 1.1)"
   ]
  },
  {
   "cell_type": "code",
   "execution_count": 83,
   "id": "9d5a087c",
   "metadata": {},
   "outputs": [
    {
     "name": "stdout",
     "output_type": "stream",
     "text": [
      "0.9633515703387775\n"
     ]
    }
   ],
   "source": [
    "#determine performance of SVM regressor\n",
    "regr = SVR(kernel = 'rbf')\n",
    "\n",
    "F_train, F_test, Y_train, Y_test = train_test_split(F.T, Y, test_size = 0.25, random_state = 0)\n",
    "\n",
    "regr.fit(F_train, Y_train)\n",
    "score = regr.score(F_test, Y_test)\n",
    "print(score) "
   ]
  },
  {
   "cell_type": "code",
   "execution_count": 85,
   "id": "c79086ca",
   "metadata": {},
   "outputs": [
    {
     "name": "stdout",
     "output_type": "stream",
     "text": [
      "0.9506126259626123\n"
     ]
    }
   ],
   "source": [
    "#determine performance of Random Forest regressor\n",
    "regr = RFR(100)\n",
    "\n",
    "F_train, F_test, Y_train, Y_test = train_test_split(F.T, Y, test_size = 0.25, random_state = 0)\n",
    "\n",
    "regr.fit(F_train, Y_train)\n",
    "score = regr.score(F_test, Y_test)\n",
    "print(score) "
   ]
  },
  {
   "cell_type": "code",
   "execution_count": 77,
   "id": "acb8e828",
   "metadata": {},
   "outputs": [
    {
     "data": {
      "text/plain": [
       "(3, 1, 146)"
      ]
     },
     "execution_count": 77,
     "metadata": {},
     "output_type": "execute_result"
    }
   ],
   "source": [
    "F2.shape\n"
   ]
  },
  {
   "cell_type": "code",
   "execution_count": null,
   "id": "5a6d620b",
   "metadata": {},
   "outputs": [],
   "source": []
  }
 ],
 "metadata": {
  "kernelspec": {
   "display_name": "Python 3 (ipykernel)",
   "language": "python",
   "name": "python3"
  },
  "language_info": {
   "codemirror_mode": {
    "name": "ipython",
    "version": 3
   },
   "file_extension": ".py",
   "mimetype": "text/x-python",
   "name": "python",
   "nbconvert_exporter": "python",
   "pygments_lexer": "ipython3",
   "version": "3.8.13"
  }
 },
 "nbformat": 4,
 "nbformat_minor": 5
}
