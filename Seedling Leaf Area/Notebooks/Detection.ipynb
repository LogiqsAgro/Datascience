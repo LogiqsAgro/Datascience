{
 "cells": [
  {
   "cell_type": "code",
   "execution_count": 1,
   "id": "f3cfea66",
   "metadata": {},
   "outputs": [],
   "source": [
    "import os\n",
    "import numpy as np\n",
    "from detecto import visualize, core\n",
    "import matplotlib.pyplot as plt\n",
    "import cv2"
   ]
  },
  {
   "cell_type": "code",
   "execution_count": 2,
   "id": "25c4e8de",
   "metadata": {},
   "outputs": [],
   "source": [
    "dataset = 'S1-2006'\n",
    "tray = 'Tray1'\n",
    "det = 'detection'\n",
    "thr = 0.8"
   ]
  },
  {
   "cell_type": "code",
   "execution_count": 5,
   "id": "e730c10e",
   "metadata": {},
   "outputs": [],
   "source": [
    "pod = plt.imread(os.getcwd()+'\\\\Data\\\\'+dataset+'\\\\Podimages\\\\'+tray+'/'+dataset+'_'+tray+'_1.1.jpeg')\n",
    "res = pod.shape[0]\n",
    "boxedimage = np.empty([res, res, 3, 150])\n",
    "\n",
    "for i in range(1, 11):\n",
    "    for j in range(1, 16): \n",
    "        \n",
    "        n = ((i-1)*15-1) + (j)        \n",
    "        \n",
    "        pod = plt.imread(os.getcwd()+'\\\\Data\\\\'+dataset+'\\\\Podimages\\\\'+tray+'/'+dataset+'_'+tray+'_'+str(i)+'.'+str(j)+'.jpeg')\n",
    "        model = core.Model.load('model_weights_2.pth', ['Basil', 'Nothing'])\n",
    "        labels, boxes, scores = model.predict(pod)\n",
    "        ind = np.argwhere(scores>thr)\n",
    "        box = boxes[ind, :][0]\n",
    "\n",
    "        if box.shape[0] == 0:\n",
    "            boxedimage[:,:,:,n] = pod\n",
    "        else:\n",
    "            for k in range (box.shape[0]):\n",
    "                boxedimage[:,:,:,n] = cv2.rectangle(pod,(int(box[k,0]),int(box[k,1])),(int(box[k,2]),int(box[k,3])),(255,0,0),2)\n",
    "                plt.imsave(os.getcwd()+'/Data/'+dataset+'/PodImages/Dmap_'+str(dataset)+'_'+str(tray)+'_'+str(i)+'.'+str(j)+'.jpeg', (boxedimage[:,:,:,n]/255))\n",
    "\n",
    "        "
   ]
  },
  {
   "cell_type": "code",
   "execution_count": 11,
   "id": "656290d5",
   "metadata": {},
   "outputs": [
    {
     "data": {
      "text/plain": [
       "(226, 226, 3)"
      ]
     },
     "execution_count": 11,
     "metadata": {},
     "output_type": "execute_result"
    }
   ],
   "source": [
    "pod.shape"
   ]
  },
  {
   "cell_type": "code",
   "execution_count": null,
   "id": "82f76c7b-37a3-4ef4-b9aa-890c2a8c99fa",
   "metadata": {},
   "outputs": [],
   "source": []
  }
 ],
 "metadata": {
  "kernelspec": {
   "display_name": "Python 3 (ipykernel)",
   "language": "python",
   "name": "python3"
  },
  "language_info": {
   "codemirror_mode": {
    "name": "ipython",
    "version": 3
   },
   "file_extension": ".py",
   "mimetype": "text/x-python",
   "name": "python",
   "nbconvert_exporter": "python",
   "pygments_lexer": "ipython3",
   "version": "3.8.13"
  }
 },
 "nbformat": 4,
 "nbformat_minor": 5
}
