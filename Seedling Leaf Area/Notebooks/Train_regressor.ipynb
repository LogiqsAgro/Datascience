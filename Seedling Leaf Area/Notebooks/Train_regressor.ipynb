{
 "cells": [
  {
   "cell_type": "code",
   "execution_count": 6,
   "id": "8d06589c",
   "metadata": {},
   "outputs": [],
   "source": [
    "import os\n",
    "import numpy as np\n",
    "import matplotlib.pyplot as plt\n",
    "import cv2 \n",
    "import pandas as pd\n",
    "from sklearn.svm import SVR\n",
    "from sklearn.linear_model import LinearRegression as LR\n",
    "from sklearn.ensemble import RandomForestRegressor as RFR\n",
    "from sklearn.model_selection import train_test_split\n",
    "from sklearn.model_selection import cross_val_score\n",
    "from sklearn.inspection import permutation_importance\n",
    "from sklearn.metrics import mean_squared_error\n"
   ]
  },
  {
   "cell_type": "code",
   "execution_count": 10,
   "id": "5c7e6514",
   "metadata": {},
   "outputs": [],
   "source": [
    "#load first dataset\n",
    "\n",
    "dataset = 'S1-2006'\n",
    "tray = 'Tray1'\n",
    "\n",
    "F = np.load(os.getcwd()+'\\\\Data\\\\'+dataset+'\\\\Model\\\\features_'+tray+'.npy')\n",
    "Y = pd.read_excel(os.getcwd()+'\\\\Data\\\\'+dataset+'\\\\Model\\\\Leaf_Area_'+tray+'.xlsx').to_numpy()[:,1]\n"
   ]
  },
  {
   "cell_type": "code",
   "execution_count": 13,
   "id": "b9d11e72-45b8-4764-93b2-58eb15d80e48",
   "metadata": {},
   "outputs": [],
   "source": [
    "#load additional dataset if necessary\n",
    "\n",
    "dataset2 = 'S2-2306'\n",
    "tray2 = 'Tray1'\n",
    "\n",
    "F = np.hstack([F, np.load(os.getcwd()+'\\\\Data\\\\'+dataset2+'\\\\Model\\\\features_'+tray2+'.npy')])\n",
    "Y = np.hstack([Y, pd.read_excel(os.getcwd()+'\\\\Data\\\\'+dataset2+'\\\\Model\\\\Leaf_Area_'+tray2+'.xlsx').to_numpy()[:,1]])\n"
   ]
  },
  {
   "cell_type": "code",
   "execution_count": 15,
   "id": "f1fcdb88-6d91-4b5c-973f-1e5e9636342e",
   "metadata": {},
   "outputs": [
    {
     "name": "stdout",
     "output_type": "stream",
     "text": [
      "[1.03847555 0.01938179]\n",
      "0.5800374181649814\n",
      "0.02690015459474061\n"
     ]
    }
   ],
   "source": [
    "#train and score least squares regression\n",
    "Fls = F[:,:]#np.vstack([F[:1, :], np.ones([F.shape[1]])])\n",
    "F_train, F_test, Y_train, Y_test = train_test_split(Fls.T, Y, test_size = 0.25, random_state = 0)\n",
    "\n",
    "regr = LR()\n",
    "\n",
    "regr.fit(F_train, Y_train)\n",
    "Y_pred = regr.predict(F_test)\n",
    "score = regr.score(F_test, Y_test)\n",
    "\n",
    "perm_importance = permutation_importance(regr, F_test, Y_test)\n",
    "\n",
    "print(perm_importance.importances_mean)\n",
    "\n",
    "print(np.mean(cross_val_score(regr, Fls.T, Y, cv=20)))\n",
    "print(np.var(cross_val_score(regr, Fls.T, Y, cv=20)))"
   ]
  },
  {
   "cell_type": "code",
   "execution_count": 16,
   "id": "8b3dc79c-3af1-4922-9722-8d6139fafee9",
   "metadata": {},
   "outputs": [
    {
     "data": {
      "text/plain": [
       "[<matplotlib.lines.Line2D at 0x13baa0aaac0>]"
      ]
     },
     "execution_count": 16,
     "metadata": {},
     "output_type": "execute_result"
    },
    {
     "data": {
      "image/png": "[encoded data removed]",
      "text/plain": [
       "<Figure size 720x576 with 1 Axes>"
      ]
     },
     "metadata": {
      "needs_background": "light"
     },
     "output_type": "display_data"
    }
   ],
   "source": [
    "#plot predicted and true values of test data in scatter plot\n",
    "plt.figure(figsize = (10,8))\n",
    "plt.title('LSR')\n",
    "plt.plot(F_test[:,0], Y_test, 'b.')\n",
    "plt.plot(F_test[:,0], Y_pred, 'r.')\n"
   ]
  },
  {
   "cell_type": "code",
   "execution_count": 17,
   "id": "1f5c4f18-3346-4d6d-8abd-10bed3aa1ad4",
   "metadata": {},
   "outputs": [
    {
     "name": "stdout",
     "output_type": "stream",
     "text": [
      "[1.03331677 0.05575873]\n",
      "0.5568792160266006\n",
      "0.04655220539310841\n"
     ]
    }
   ],
   "source": [
    "## train and score SVM regressor\n",
    "Fsvm = F[:, :]\n",
    "regr = SVR(kernel = 'rbf', C = 10)\n",
    "\n",
    "F_train, F_test, Y_train, Y_test = train_test_split(Fsvm.T, Y, test_size = 0.25, random_state = 0)\n",
    "\n",
    "regr.fit(F_train, Y_train)\n",
    "Y_pred = regr.predict(F_test)\n",
    "score = regr.score(F_test, Y_test)\n",
    "\n",
    "\n",
    "perm_importance = permutation_importance(regr, F_test, Y_test)\n",
    "\n",
    "print(perm_importance.importances_mean)\n",
    "\n",
    "print(np.mean(cross_val_score(regr, Fsvm.T, Y, cv=20)))\n",
    "print(np.var(cross_val_score(regr, Fsvm.T, Y, cv=20)))"
   ]
  },
  {
   "cell_type": "code",
   "execution_count": 18,
   "id": "99be2b10",
   "metadata": {},
   "outputs": [
    {
     "data": {
      "text/plain": [
       "[<matplotlib.lines.Line2D at 0x13baa11c550>]"
      ]
     },
     "execution_count": 18,
     "metadata": {},
     "output_type": "execute_result"
    },
    {
     "data": {
      "image/png": "[encoded data removed]",
      "text/plain": [
       "<Figure size 720x576 with 1 Axes>"
      ]
     },
     "metadata": {
      "needs_background": "light"
     },
     "output_type": "display_data"
    }
   ],
   "source": [
    "#plot predicted and true values of test data in scatter plot\n",
    "\n",
    "plt.figure(figsize = (10,8))\n",
    "plt.title('SVR')\n",
    "plt.plot(F_test[:,0], Y_test, 'b.')\n",
    "plt.plot(F_test[:,0], Y_pred, 'r.')"
   ]
  },
  {
   "cell_type": "code",
   "execution_count": 19,
   "id": "1ba3d4fd",
   "metadata": {},
   "outputs": [
    {
     "name": "stdout",
     "output_type": "stream",
     "text": [
      "[1.2152122  0.05343656]\n",
      "0.46910225915229137\n",
      "0.05748323771310404\n"
     ]
    }
   ],
   "source": [
    "#train and score Random Forest regressor\n",
    "Frfr = F[:, :]\n",
    "regr = RFR(100)\n",
    "\n",
    "F_train, F_test, Y_train, Y_test = train_test_split(Frfr.T, Y, test_size = 0.25, random_state = 0)\n",
    "\n",
    "regr.fit(F_train, Y_train)\n",
    "score = regr.score(F_test, Y_test)\n",
    "Y_pred = regr.predict(F_test)\n",
    "\n",
    "perm_importance = permutation_importance(regr, F_test, Y_test)\n",
    "\n",
    "print(perm_importance.importances_mean)\n",
    "\n",
    "print(np.mean(cross_val_score(regr, Fsvm.T, Y, cv=20)))\n",
    "print(np.var(cross_val_score(regr, Fsvm.T, Y, cv=20)))"
   ]
  },
  {
   "cell_type": "code",
   "execution_count": 20,
   "id": "30f974e5-38bd-45fb-ab9d-cd41e170af19",
   "metadata": {},
   "outputs": [
    {
     "data": {
      "text/plain": [
       "[<matplotlib.lines.Line2D at 0x13baa43fdf0>]"
      ]
     },
     "execution_count": 20,
     "metadata": {},
     "output_type": "execute_result"
    },
    {
     "data": {
      "image/png": "[encoded data removed]",
      "text/plain": [
       "<Figure size 720x576 with 1 Axes>"
      ]
     },
     "metadata": {
      "needs_background": "light"
     },
     "output_type": "display_data"
    }
   ],
   "source": [
    "#plot predicted and true values of test data in scatter plot\n",
    "\n",
    "plt.figure(figsize = (10,8))\n",
    "plt.title('RFR')\n",
    "plt.plot(F_test[:,0], Y_test, 'b.')\n",
    "plt.plot(F_test[:,0], Y_pred, 'r.')"
   ]
  },
  {
   "cell_type": "code",
   "execution_count": null,
   "id": "efc5b1ef-b0c7-4edc-aa51-44c856df6617",
   "metadata": {},
   "outputs": [],
   "source": []
  }
 ],
 "metadata": {
  "kernelspec": {
   "display_name": "Python 3 (ipykernel)",
   "language": "python",
   "name": "python3"
  },
  "language_info": {
   "codemirror_mode": {
    "name": "ipython",
    "version": 3
   },
   "file_extension": ".py",
   "mimetype": "text/x-python",
   "name": "python",
   "nbconvert_exporter": "python",
   "pygments_lexer": "ipython3",
   "version": "3.8.13"
  }
 },
 "nbformat": 4,
 "nbformat_minor": 5
}
