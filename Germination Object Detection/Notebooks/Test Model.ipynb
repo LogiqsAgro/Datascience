{
 "cells": [
  {
   "cell_type": "code",
   "execution_count": 1,
   "id": "245ee860",
   "metadata": {},
   "outputs": [],
   "source": [
    "from detecto import core, utils, visualize\n",
    "from detecto.visualize import show_labeled_image, plot_prediction_grid\n",
    "from torchvision import transforms\n",
    "import matplotlib.pyplot as plt\n",
    "import numpy as np\n",
    "import cv2"
   ]
  },
  {
   "cell_type": "code",
   "execution_count": 2,
   "id": "e0153d21",
   "metadata": {},
   "outputs": [],
   "source": [
    "model = core.Model.load('model_weights_2.pth',['Basil', 'Nothing'])"
   ]
  },
  {
   "cell_type": "code",
   "execution_count": 3,
   "id": "8108937e",
   "metadata": {},
   "outputs": [],
   "source": [
    "image = utils.read_image('../Data/Images/Keria_01_1904/Keria_01_1904_Plug_7-1.jpg') "
   ]
  },
  {
   "cell_type": "code",
   "execution_count": 4,
   "id": "af6b68fb",
   "metadata": {},
   "outputs": [
    {
     "name": "stdout",
     "output_type": "stream",
     "text": [
      "(['Basil', 'Basil', 'Basil', 'Basil', 'Basil', 'Basil', 'Basil', 'Basil', 'Basil', 'Basil', 'Basil', 'Basil', 'Basil'], tensor([[ 73.6295, 121.1669, 115.9486, 171.0993],\n",
      "        [113.9634,  84.5412, 165.4977, 134.5889],\n",
      "        [ 78.1080,  75.6847, 119.2051, 106.8066],\n",
      "        [155.5903,  50.3100, 213.3400,  87.6098],\n",
      "        [ 33.5274, 149.9376,  78.5315, 191.4859],\n",
      "        [ 33.3206, 100.6870,  65.8934, 148.2356],\n",
      "        [ 31.1308,  35.3050,  74.8818,  75.8486],\n",
      "        [ 78.5581,  48.7812, 113.0801,  76.2041],\n",
      "        [ 35.9370,  74.3309,  74.4290, 100.0373],\n",
      "        [ 77.1100,  48.9645, 117.7370, 111.8934],\n",
      "        [ 31.8532,  76.0350,  72.1016, 144.5193],\n",
      "        [ 34.1879,  48.1890,  76.6659, 127.3351],\n",
      "        [ 35.4515, 112.4131,  74.8951, 161.4797]]), tensor([0.9988, 0.9978, 0.9975, 0.9974, 0.9968, 0.9951, 0.9931, 0.9803, 0.9436,\n",
      "        0.3425, 0.2385, 0.1465, 0.0579]))\n"
     ]
    }
   ],
   "source": [
    "predictions = model.predict(image)\n",
    "print(predictions)"
   ]
  },
  {
   "cell_type": "code",
   "execution_count": 5,
   "id": "c170826f",
   "metadata": {},
   "outputs": [],
   "source": [
    "labels, boxes, scores = predictions\n",
    "thresh=0.6\n",
    "filtered_indices=np.where(scores>thresh)\n",
    "filtered_scores=scores[filtered_indices]\n",
    "boxes=boxes[filtered_indices]\n",
    "boxes = np.array(boxes)\n",
    "boxes = boxes.astype(int)\n",
    "boxshape = len(boxes[:,0])"
   ]
  },
  {
   "cell_type": "code",
   "execution_count": 6,
   "id": "805da553",
   "metadata": {},
   "outputs": [],
   "source": [
    "if boxshape == 0:\n",
    "    boxedimage = image\n",
    "else:\n",
    "    for i in range (0,boxshape):\n",
    "        boxedimage = cv2.rectangle(image,(boxes[i,0],boxes[i,1]),(boxes[i,2],boxes[i,3]),(255,0,0),2)\n",
    "        "
   ]
  },
  {
   "cell_type": "code",
   "execution_count": 7,
   "id": "be54a553",
   "metadata": {},
   "outputs": [],
   "source": [
    "cv2.imwrite('./Test_Labeled_plug.jpg', boxedimage)\n",
    "cv2.imshow('labeled-image',boxedimage)\n",
    "cv2.waitKey(0)\n",
    "cv2.destroyAllWindows()"
   ]
  },
  {
   "cell_type": "code",
   "execution_count": null,
   "id": "eaae31f1",
   "metadata": {},
   "outputs": [],
   "source": []
  }
 ],
 "metadata": {
  "kernelspec": {
   "display_name": "Python 3 (ipykernel)",
   "language": "python",
   "name": "python3"
  },
  "language_info": {
   "codemirror_mode": {
    "name": "ipython",
    "version": 3
   },
   "file_extension": ".py",
   "mimetype": "text/x-python",
   "name": "python",
   "nbconvert_exporter": "python",
   "pygments_lexer": "ipython3",
   "version": "3.8.13"
  }
 },
 "nbformat": 4,
 "nbformat_minor": 5
}
