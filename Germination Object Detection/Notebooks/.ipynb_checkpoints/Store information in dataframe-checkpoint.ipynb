{
 "cells": [
  {
   "cell_type": "code",
   "execution_count": 1,
   "id": "76752484",
   "metadata": {},
   "outputs": [],
   "source": [
    "from detecto import core, utils, visualize\n",
    "from detecto.visualize import show_labeled_image, plot_prediction_grid\n",
    "from torchvision import transforms\n",
    "import matplotlib.pyplot as plt\n",
    "import numpy as np\n",
    "import cv2\n",
    "import pandas as pd"
   ]
  },
  {
   "cell_type": "code",
   "execution_count": 2,
   "id": "07821480",
   "metadata": {},
   "outputs": [],
   "source": [
    "model = core.Model.load('model_weights.pth',['Basil', 'Nothing'])"
   ]
  },
  {
   "cell_type": "code",
   "execution_count": 8,
   "id": "d45ea0a7",
   "metadata": {},
   "outputs": [
    {
     "data": {
      "text/html": [
       "<div>\n",
       "<style scoped>\n",
       "    .dataframe tbody tr th:only-of-type {\n",
       "        vertical-align: middle;\n",
       "    }\n",
       "\n",
       "    .dataframe tbody tr th {\n",
       "        vertical-align: top;\n",
       "    }\n",
       "\n",
       "    .dataframe thead th {\n",
       "        text-align: right;\n",
       "    }\n",
       "</style>\n",
       "<table border=\"1\" class=\"dataframe\">\n",
       "  <thead>\n",
       "    <tr style=\"text-align: right;\">\n",
       "      <th></th>\n",
       "      <th>Plug Number</th>\n",
       "      <th>Amount of plants</th>\n",
       "      <th>Average spread</th>\n",
       "    </tr>\n",
       "  </thead>\n",
       "  <tbody>\n",
       "    <tr>\n",
       "      <th>0</th>\n",
       "      <td>NaN</td>\n",
       "      <td>NaN</td>\n",
       "      <td>NaN</td>\n",
       "    </tr>\n",
       "  </tbody>\n",
       "</table>\n",
       "</div>"
      ],
      "text/plain": [
       "   Plug Number  Amount of plants  Average spread\n",
       "0          NaN               NaN             NaN"
      ]
     },
     "execution_count": 8,
     "metadata": {},
     "output_type": "execute_result"
    }
   ],
   "source": [
    "Data = {'Plug Number','Amount of plants','Average spread'}\n",
    "df = pd.DataFrame(Data)\n",
    "df = df.transpose()\n",
    "columns_titles = ['Plug Number','Amount of plants','Average spread']\n",
    "df=df.reindex(columns=columns_titles)\n",
    "df"
   ]
  },
  {
   "cell_type": "code",
   "execution_count": 21,
   "id": "52ce321a",
   "metadata": {},
   "outputs": [
    {
     "ename": "SyntaxError",
     "evalue": "invalid syntax (121709316.py, line 18)",
     "output_type": "error",
     "traceback": [
      "\u001b[1;36m  Input \u001b[1;32mIn [21]\u001b[1;36m\u001b[0m\n\u001b[1;33m    for s in range (0,Numberofplants):\u001b[0m\n\u001b[1;37m                                     ^\u001b[0m\n\u001b[1;31mSyntaxError\u001b[0m\u001b[1;31m:\u001b[0m invalid syntax\n"
     ]
    }
   ],
   "source": [
    "imagecount = 150\n",
    "plugperrow = 5\n",
    "image_row = 1\n",
    "thresh=0.6\n",
    "for i in range (0,plugperrow): \n",
    "    image_column = 1\n",
    "    for j in range (0,int(imagecount/plugperrow)): \n",
    "        image = utils.read_image('../Images/Plug_' + str(image_row) + '-' + str(image_column) + '.jpg')\n",
    "        predictions = model.predict(image)\n",
    "        labels, boxes, scores = predictions\n",
    "        filtered_indices=np.where(scores>thresh)\n",
    "        filtered_scores=scores[filtered_indices]\n",
    "        boxes=boxes[filtered_indices]\n",
    "        boxes = np.array(boxes)\n",
    "        boxes = boxes.astype(int)\n",
    "        Numberofplants = len(boxes[:,0])\n",
    "        centers = np.zeros((Numberofplants,2)\n",
    "                           \n",
    "        spread = 0\n",
    "        for s in range (0,Numberofplants):\n",
    "            dist = np.zeros(numberofplants)\n",
    "            for r in range (0,Numberofplants):\n",
    "                dist[r] = sqrt((centers[s,0] - centers[r,0])**2 + (centers[s,1] - centers[r,1])**2)\n",
    "            spread = spread+sum(dist)\n",
    "        avgspread = spread/(numplants**2)\n",
    "        df.append([str(image_row) + + '-' + str(image_column), Numberofplants,avfspread])\n",
    "        image_column += 1\n",
    "    image_row+=1\n",
    "\n",
    "                \n",
    "                \n",
    "                \n",
    "            "
   ]
  }
 ],
 "metadata": {
  "kernelspec": {
   "display_name": "Python 3 (ipykernel)",
   "language": "python",
   "name": "python3"
  },
  "language_info": {
   "codemirror_mode": {
    "name": "ipython",
    "version": 3
   },
   "file_extension": ".py",
   "mimetype": "text/x-python",
   "name": "python",
   "nbconvert_exporter": "python",
   "pygments_lexer": "ipython3",
   "version": "3.8.13"
  }
 },
 "nbformat": 4,
 "nbformat_minor": 5
}
