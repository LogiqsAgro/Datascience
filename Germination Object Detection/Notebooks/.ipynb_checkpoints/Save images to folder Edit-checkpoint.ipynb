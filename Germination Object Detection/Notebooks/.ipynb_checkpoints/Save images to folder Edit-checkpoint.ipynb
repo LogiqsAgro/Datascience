{
 "cells": [
  {
   "cell_type": "code",
   "execution_count": 1,
   "id": "741af636",
   "metadata": {},
   "outputs": [],
   "source": [
    "import cv2\n",
    "import numpy as np\n",
    "import matplotlib.pyplot as plt"
   ]
  },
  {
   "cell_type": "code",
   "execution_count": 56,
   "id": "3553cbc1",
   "metadata": {},
   "outputs": [],
   "source": [
    "image_column = 1\n",
    "for i in range (0,5):\n",
    "    image_row = 1\n",
    "    for j in range (0,15):\n",
    "        \n",
    "        img1 = cv2.imread(\"../BasilTray_1.jpg\")\n",
    "        img = cv2.imread(\"../BasilTray_1.jpg\",0)\n",
    "        gray = cv2.cvtColor(img1, cv2.COLOR_BGR2GRAY)\n",
    "        ret, thresh = cv2.threshold(gray, 50, 255, cv2.THRESH_BINARY)\n",
    "\n",
    "        height,width = img.shape\n",
    "        mask = np.zeros((height,width), np.uint8)\n",
    "\n",
    "\n",
    "        circle_img = cv2.circle(mask,((778+(420-j)*i+j*3),(3805+(-20+2*j)*i-243*j)),125,(255,255,255),thickness=-1)\n",
    "\n",
    "        masked_data = cv2.bitwise_and(img1, img1, mask=mask)\n",
    "        _,thresh = cv2.threshold(mask,1,255,cv2.THRESH_BINARY)\n",
    "        # Find Contour\n",
    "        contours, hierarchy = cv2.findContours(thresh, cv2.RETR_EXTERNAL, cv2.CHAIN_APPROX_NONE)[-2:]\n",
    "        x,y,w,h = cv2.boundingRect(contours[0])\n",
    "\n",
    "        # Crop masked_data\n",
    "        crop = masked_data[y:y+h,x:x+w]\n",
    "\n",
    "        cv2.imwrite('../Images/Plug_' + str(image_row) + '-' + str(image_column) + '.jpg', crop)\n",
    "        image_row += 2\n",
    "    image_column += 1"
   ]
  },
  {
   "cell_type": "code",
   "execution_count": 68,
   "id": "228c9375",
   "metadata": {},
   "outputs": [],
   "source": [
    "image_column = 1\n",
    "for i in range (0,5):\n",
    "    image_row = 2\n",
    "    for j in range (0,15):\n",
    "        \n",
    "        img1 = cv2.imread(\"../BasilTray_1.jpg\")\n",
    "        img = cv2.imread(\"../BasilTray_1.jpg\",0)\n",
    "        gray = cv2.cvtColor(img1, cv2.COLOR_BGR2GRAY)\n",
    "        ret, thresh = cv2.threshold(gray, 50, 255, cv2.THRESH_BINARY)\n",
    "\n",
    "        height,width = img.shape\n",
    "        mask = np.zeros((height,width), np.uint8)\n",
    "\n",
    "\n",
    "        circle_img = cv2.circle(mask,((997+(410-j)*i+j*3),(3677+(-15+3*j)*i-243*j)),125,(255,255,255),thickness=-1)\n",
    "\n",
    "        masked_data = cv2.bitwise_and(img1, img1, mask=mask)\n",
    "        _,thresh = cv2.threshold(mask,1,255,cv2.THRESH_BINARY)\n",
    "        # Find Contour\n",
    "        contours, hierarchy = cv2.findContours(thresh, cv2.RETR_EXTERNAL, cv2.CHAIN_APPROX_NONE)[-2:]\n",
    "        x,y,w,h = cv2.boundingRect(contours[0])\n",
    "\n",
    "        # Crop masked_data\n",
    "        crop = masked_data[y:y+h,x:x+w]\n",
    "\n",
    "        cv2.imwrite('../Images/Plug_' + str(image_row) + '-' + str(image_column) + '.jpg', crop)\n",
    "        image_row += 2\n",
    "    image_column += 1"
   ]
  }
 ],
 "metadata": {
  "kernelspec": {
   "display_name": "Python 3 (ipykernel)",
   "language": "python",
   "name": "python3"
  },
  "language_info": {
   "codemirror_mode": {
    "name": "ipython",
    "version": 3
   },
   "file_extension": ".py",
   "mimetype": "text/x-python",
   "name": "python",
   "nbconvert_exporter": "python",
   "pygments_lexer": "ipython3",
   "version": "3.8.13"
  }
 },
 "nbformat": 4,
 "nbformat_minor": 5
}
