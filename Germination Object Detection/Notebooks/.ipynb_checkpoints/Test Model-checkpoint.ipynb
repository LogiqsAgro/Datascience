{
 "cells": [
  {
   "cell_type": "code",
   "execution_count": 17,
   "id": "245ee860",
   "metadata": {},
   "outputs": [],
   "source": [
    "from detecto import core, utils, visualize\n",
    "from detecto.visualize import show_labeled_image, plot_prediction_grid\n",
    "from torchvision import transforms\n",
    "import matplotlib.pyplot as plt\n",
    "import numpy as np\n",
    "import cv2"
   ]
  },
  {
   "cell_type": "code",
   "execution_count": 18,
   "id": "e0153d21",
   "metadata": {},
   "outputs": [],
   "source": [
    "model = core.Model.load('model_weights.pth',['Basil', 'Nothing'])"
   ]
  },
  {
   "cell_type": "code",
   "execution_count": 79,
   "id": "8108937e",
   "metadata": {},
   "outputs": [],
   "source": [
    "image = utils.read_image('../Data/Test_set/Plug_30-4.jpg') "
   ]
  },
  {
   "cell_type": "code",
   "execution_count": 80,
   "id": "af6b68fb",
   "metadata": {},
   "outputs": [
    {
     "name": "stdout",
     "output_type": "stream",
     "text": [
      "(['Basil', 'Basil', 'Basil', 'Nothing', 'Basil', 'Basil', 'Basil'], tensor([[155.3143,  41.9577, 192.2934,  68.0383],\n",
      "        [212.8588,  88.1211, 239.8357, 126.1716],\n",
      "        [ 32.9862,  24.0745, 244.3266, 238.0759],\n",
      "        [ 20.2553,  10.6055, 251.0000, 251.0000],\n",
      "        [ 18.6053,  61.9086, 234.5640, 167.0176],\n",
      "        [ 39.2627,  13.2566, 173.9108, 196.6624],\n",
      "        [207.3512,  60.7771, 246.4016, 124.7287]]), tensor([0.9955, 0.6149, 0.2392, 0.0915, 0.0898, 0.0816, 0.0530]))\n"
     ]
    }
   ],
   "source": [
    "predictions = model.predict(image)\n",
    "print(predictions)"
   ]
  },
  {
   "cell_type": "code",
   "execution_count": 81,
   "id": "c170826f",
   "metadata": {},
   "outputs": [],
   "source": [
    "labels, boxes, scores = predictions\n",
    "thresh=0.6\n",
    "filtered_indices=np.where(scores>thresh)\n",
    "filtered_scores=scores[filtered_indices]\n",
    "boxes=boxes[filtered_indices]\n",
    "boxes = np.array(boxes)\n",
    "boxes = boxes.astype(int)\n",
    "boxshape = len(boxes[:,0])"
   ]
  },
  {
   "cell_type": "code",
   "execution_count": 83,
   "id": "805da553",
   "metadata": {},
   "outputs": [],
   "source": [
    "if boxshape == 0:\n",
    "    boxedimage = image\n",
    "else:\n",
    "    for i in range (0,boxshape):\n",
    "        boxedimage = cv2.rectangle(image,(boxes[i,0],boxes[i,1]),(boxes[i,2],boxes[i,3]),(255,0,0),2)"
   ]
  },
  {
   "cell_type": "code",
   "execution_count": 84,
   "id": "be54a553",
   "metadata": {},
   "outputs": [],
   "source": [
    "cv2.imshow('labeled-image',boxedimage)\n",
    "cv2.waitKey(0)\n",
    "cv2.destroyAllWindows()"
   ]
  },
  {
   "cell_type": "code",
   "execution_count": null,
   "id": "eaae31f1",
   "metadata": {},
   "outputs": [],
   "source": []
  }
 ],
 "metadata": {
  "kernelspec": {
   "display_name": "Python 3 (ipykernel)",
   "language": "python",
   "name": "python3"
  },
  "language_info": {
   "codemirror_mode": {
    "name": "ipython",
    "version": 3
   },
   "file_extension": ".py",
   "mimetype": "text/x-python",
   "name": "python",
   "nbconvert_exporter": "python",
   "pygments_lexer": "ipython3",
   "version": "3.8.13"
  }
 },
 "nbformat": 4,
 "nbformat_minor": 5
}
