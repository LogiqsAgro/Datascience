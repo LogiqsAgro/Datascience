{
 "cells": [
  {
   "cell_type": "code",
   "execution_count": 1,
   "id": "9b4fb346",
   "metadata": {},
   "outputs": [],
   "source": [
    "import cv2\n",
    "import numpy as np\n",
    "import matplotlib.pyplot as plt\n"
   ]
  },
  {
   "cell_type": "code",
   "execution_count": 38,
   "id": "5b09ec5f",
   "metadata": {},
   "outputs": [
    {
     "name": "stdout",
     "output_type": "stream",
     "text": [
      "4000 3000\n"
     ]
    }
   ],
   "source": [
    "\n",
    "# read image\n",
    "img1 = cv2.imread(\"../Data/TrayImages/Keria_03_1904.jpg\")\n",
    "img = cv2.imread(\"../Data/TrayImages/Keria_03_1904.jpg\",0)\n",
    "gray = cv2.cvtColor(img1, cv2.COLOR_BGR2GRAY)\n",
    "ret, thresh = cv2.threshold(gray, 50, 255, cv2.THRESH_BINARY)\n",
    "\n",
    "height,width = img.shape\n",
    "print(height,width)\n",
    "mask = np.zeros((height,width), np.uint8)\n",
    "\n",
    "\n",
    "circle_img = cv2.circle(mask,(500,3750),125,(255,255,255),thickness=-1)\n",
    "\n",
    "masked_data = cv2.bitwise_and(img1, img1, mask=mask)\n",
    "\n",
    "_,thresh = cv2.threshold(mask,1,255,cv2.THRESH_BINARY)\n",
    "# Find Contour\n",
    "contours, hierarchy = cv2.findContours(thresh, cv2.RETR_EXTERNAL, cv2.CHAIN_APPROX_NONE)[-2:]\n",
    "x,y,w,h = cv2.boundingRect(contours[0])\n",
    "\n",
    "# Crop masked_data\n",
    "crop = masked_data[y:y+h,x:x+w]\n",
    "\n",
    "#Code to close Window\n",
    "winname = 'Plug'\n",
    "cv2.namedWindow(winname)        # Create a named window\n",
    "cv2.moveWindow(winname, 40,30)  # Move it to (40,30)\n",
    "cv2.imshow(winname, crop)\n",
    "cv2.waitKey(0)\n",
    "cv2.destroyAllWindows()\n"
   ]
  },
  {
   "cell_type": "code",
   "execution_count": 39,
   "id": "7395cfda",
   "metadata": {},
   "outputs": [],
   "source": [
    "# read image\n",
    "img1 = cv2.imread(\"../Data/TrayImages/Keria_03_1904.jpg\")\n",
    "img = cv2.imread(\"../Data/TrayImages/Keria_03_1904.jpg\",0)\n",
    "gray = cv2.cvtColor(img1, cv2.COLOR_BGR2GRAY)\n",
    "ret, thresh = cv2.threshold(gray, 50, 255, cv2.THRESH_BINARY)\n",
    "\n",
    "height,width = img.shape\n",
    "mask = np.zeros((height,width), np.uint8)\n",
    "\n",
    "\n",
    "circle_img = cv2.circle(mask,(920,3750),125,(255,255,255),thickness=-1)\n",
    "\n",
    "masked_data = cv2.bitwise_and(img1, img1, mask=mask)\n",
    "\n",
    "_,thresh = cv2.threshold(mask,1,255,cv2.THRESH_BINARY)\n",
    "# Find Contour\n",
    "contours, hierarchy = cv2.findContours(thresh, cv2.RETR_EXTERNAL, cv2.CHAIN_APPROX_NONE)[-2:]\n",
    "x,y,w,h = cv2.boundingRect(contours[0])\n",
    "\n",
    "# Crop masked_data\n",
    "crop = masked_data[y:y+h,x:x+w]\n",
    "\n",
    "#Code to close Window\n",
    "winname = 'Plug'\n",
    "cv2.namedWindow(winname)        # Create a named window\n",
    "cv2.moveWindow(winname, 40,30)  # Move it to (40,30)\n",
    "cv2.imshow(winname, crop)\n",
    "cv2.waitKey(0)\n",
    "cv2.destroyAllWindows()\n"
   ]
  },
  {
   "cell_type": "code",
   "execution_count": 43,
   "id": "3f9990ab",
   "metadata": {},
   "outputs": [],
   "source": [
    "# read image\n",
    "img1 = cv2.imread(\"../BasilTray_1.jpg\")\n",
    "img = cv2.imread(\"../BasilTray_1.jpg\",0)\n",
    "gray = cv2.cvtColor(img1, cv2.COLOR_BGR2GRAY)\n",
    "ret, thresh = cv2.threshold(gray, 50, 255, cv2.THRESH_BINARY)\n",
    "\n",
    "height,width = img.shape\n",
    "mask = np.zeros((height,width), np.uint8)\n",
    "\n",
    "\n",
    "circle_img = cv2.circle(mask,(1640,3785),125,(255,255,255),thickness=-1)\n",
    "\n",
    "masked_data = cv2.bitwise_and(img1, img1, mask=mask)\n",
    "\n",
    "_,thresh = cv2.threshold(mask,1,255,cv2.THRESH_BINARY)\n",
    "# Find Contour\n",
    "contours, hierarchy = cv2.findContours(thresh, cv2.RETR_EXTERNAL, cv2.CHAIN_APPROX_NONE)[-2:]\n",
    "x,y,w,h = cv2.boundingRect(contours[0])\n",
    "\n",
    "# Crop masked_data\n",
    "crop = masked_data[y:y+h,x:x+w]\n",
    "\n",
    "#Code to close Window\n",
    "cv2.imshow('Cropped Eye',crop)\n",
    "cv2.waitKey(0)\n",
    "cv2.destroyAllWindows()"
   ]
  }
 ],
 "metadata": {
  "kernelspec": {
   "display_name": "Python 3 (ipykernel)",
   "language": "python",
   "name": "python3"
  },
  "language_info": {
   "codemirror_mode": {
    "name": "ipython",
    "version": 3
   },
   "file_extension": ".py",
   "mimetype": "text/x-python",
   "name": "python",
   "nbconvert_exporter": "python",
   "pygments_lexer": "ipython3",
   "version": "3.8.13"
  }
 },
 "nbformat": 4,
 "nbformat_minor": 5
}
