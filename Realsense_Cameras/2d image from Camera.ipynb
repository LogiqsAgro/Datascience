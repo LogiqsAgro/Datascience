{
 "cells": [
  {
   "cell_type": "code",
   "execution_count": 11,
   "id": "0ee4c302",
   "metadata": {},
   "outputs": [
    {
     "name": "stdout",
     "output_type": "stream",
     "text": [
      "2022_04_15_12_37_08\n",
      "Saved\n"
     ]
    }
   ],
   "source": [
    "import pyrealsense2 as rs\n",
    "import numpy as np\n",
    "import cv2\n",
    "from datetime import datetime\n",
    "\n",
    "# Configure depth and color streams...\n",
    "# ...from Camera 1\n",
    "pipeline_1 = rs.pipeline()\n",
    "config_1 = rs.config()\n",
    "config_1.enable_device('039322061250')\n",
    "config_1.enable_stream(rs.stream.depth, 640, 480, rs.format.z16, 30)\n",
    "config_1.enable_stream(rs.stream.color, 640, 480, rs.format.bgr8, 30)\n",
    "# ...from Camera 2\n",
    "pipeline_2 = rs.pipeline()\n",
    "config_2 = rs.config()\n",
    "config_2.enable_device('127122065043')\n",
    "config_2.enable_stream(rs.stream.depth, 640, 480, rs.format.z16, 30)\n",
    "config_2.enable_stream(rs.stream.color, 640, 480, rs.format.bgr8, 30)\n",
    "\n",
    "\n",
    "# Start streaming from both cameras\n",
    "pipeline_1.start(config_1)\n",
    "pipeline_2.start(config_2)\n",
    "    \n",
    "# Camera 1\n",
    "# Wait for a coherent pair of frames: depth and color\n",
    "frames_1 = pipeline_1.wait_for_frames()\n",
    "depth_frame_1 = frames_1.get_depth_frame()\n",
    "color_frame_1 = frames_1.get_color_frame()\n",
    "# Convert images to numpy arrays\n",
    "depth_image_1 = np.asanyarray(depth_frame_1.get_data())\n",
    "color_image_1 = np.asanyarray(color_frame_1.get_data())\n",
    "\n",
    "# Camera 2\n",
    "# Wait for a coherent pair of frames: depth and color\n",
    "frames_2 = pipeline_2.wait_for_frames()\n",
    "depth_frame_2 = frames_2.get_depth_frame()\n",
    "color_frame_2 = frames_2.get_color_frame()\n",
    "\n",
    "# Convert images to numpy arrays\n",
    "depth_image_2 = np.asanyarray(depth_frame_2.get_data())\n",
    "color_image_2 = np.asanyarray(color_frame_2.get_data())\n",
    "\n",
    "# Save images \n",
    "dt = datetime.now()\n",
    "dt = dt.replace(microsecond=0) \n",
    "dt = str(dt)\n",
    "dt = dt.replace(\" \", \"_\")\n",
    "dt = dt.replace(\":\", \"_\")\n",
    "dt = dt.replace(\"-\", \"_\")\n",
    "cv2.imwrite(\"./Images/Time_\" + str(dt) + \"_Top.jpg\", color_image_1)\n",
    "cv2.imwrite(\"./Images/Time_\" + str(dt) + \"_Front.jpg\", color_image_2)\n",
    "\n",
    "# Stop streaming\n",
    "pipeline_1.stop()\n",
    "pipeline_2.stop()"
   ]
  }
 ],
 "metadata": {
  "kernelspec": {
   "display_name": "Python 3 (ipykernel)",
   "language": "python",
   "name": "python3"
  },
  "language_info": {
   "codemirror_mode": {
    "name": "ipython",
    "version": 3
   },
   "file_extension": ".py",
   "mimetype": "text/x-python",
   "name": "python",
   "nbconvert_exporter": "python",
   "pygments_lexer": "ipython3",
   "version": "3.8.13"
  }
 },
 "nbformat": 4,
 "nbformat_minor": 5
}
